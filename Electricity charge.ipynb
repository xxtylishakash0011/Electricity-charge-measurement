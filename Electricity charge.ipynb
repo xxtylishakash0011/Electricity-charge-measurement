{
 "cells": [
  {
   "cell_type": "code",
   "execution_count": null,
   "id": "17d74368-9e27-4200-9f73-149deea2d834",
   "metadata": {},
   "outputs": [],
   "source": [
    "def bill(n):\n",
    "    if n==500:\n",
    "        print(\"your bisili gill \",n*5)\n",
    "    elif n>=500 and n<=1000:\n",
    "        print(\"your electric bill \",n*10)\n",
    "    elif n>1000 and n<=2500:\n",
    "        print(\"your electric bill \",n*20)\n",
    "    elif n>2500 and n<=50000:\n",
    "        print(\"your electric bill \",n*30)\n",
    "    else:\n",
    "        print(\"The value you have fill wrong check it again\")\n",
    "def details():\n",
    "    print(\"IF YOU ARE NOT SUBMITTED BEFORE MID MONTH SO YOUR LATE FINE 2000\")\n",
    "    print(a[0].upper())\n",
    "    print(\"MY NAME IS AKASH KUMAR\")\n",
    "    print(\"ADDRESS- VILL-BASDIHA,SARAIYA,AMJHOR,ROHTAS,8213121\")\n",
    "    print(\"GMAIL- akashkumar7258@gamil.com\")\n",
    "    print(\"CONTACT NUMBER- 7258006733\")\n",
    "for x in range(3):\n",
    "    a=input(\"enter your customer name  \")\n",
    "    print(a)\n",
    "    n=int(input(\"enter the electric bill = \"))\n",
    "    bill(n)\n",
    "    details()"
   ]
  }
 ],
 "metadata": {
  "kernelspec": {
   "display_name": "Python 3 (ipykernel)",
   "language": "python",
   "name": "python3"
  },
  "language_info": {
   "codemirror_mode": {
    "name": "ipython",
    "version": 3
   },
   "file_extension": ".py",
   "mimetype": "text/x-python",
   "name": "python",
   "nbconvert_exporter": "python",
   "pygments_lexer": "ipython3",
   "version": "3.12.7"
  }
 },
 "nbformat": 4,
 "nbformat_minor": 5
}
